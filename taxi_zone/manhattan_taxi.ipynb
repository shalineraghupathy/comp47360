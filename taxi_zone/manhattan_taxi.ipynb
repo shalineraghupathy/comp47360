{
 "cells": [
  {
   "cell_type": "markdown",
   "metadata": {},
   "source": [
    "## Manhattan taxi zones"
   ]
  },
  {
   "cell_type": "code",
   "execution_count": 1,
   "metadata": {},
   "outputs": [],
   "source": [
    "import pandas as pd\n",
    "import geopandas as gpd\n",
    "\n",
    "# Load data\n",
    "taxi_zones_gdf = gpd.read_file(\"C:/Users/Justh/OneDrive/Documents/MScComputerScience/S3 Research Practicum/Datasets/Taxi/NYC_Taxi_Zones.geojson\")\n",
    "\n",
    "manhattan_taxi_zones_gdf = taxi_zones_gdf[taxi_zones_gdf['borough'] == 'Manhattan']\n",
    "manhattan_taxi_zones_gdf.to_file('manhattan_taxi_zones.geojson', driver='GeoJSON')\n",
    "\n",
    "manhattan_taxi_zones_df = pd.DataFrame(manhattan_taxi_zones_gdf)\n",
    "manhattan_taxi_zones_df.to_csv('manhattan_taxi_zones.csv', index=False)  \n",
    "\n",
    "\n"
   ]
  },
  {
   "cell_type": "code",
   "execution_count": 12,
   "metadata": {},
   "outputs": [
    {
     "data": {
      "text/plain": [
       "(69, 8)"
      ]
     },
     "execution_count": 12,
     "metadata": {},
     "output_type": "execute_result"
    }
   ],
   "source": [
    "manhattan_taxi_zones_gdf.shape"
   ]
  },
  {
   "cell_type": "code",
   "execution_count": 14,
   "metadata": {},
   "outputs": [
    {
     "data": {
      "text/plain": [
       "Index(['shape_area', 'objectid', 'shape_leng', 'location_id', 'zone',\n",
       "       'borough', 'geometry', 'area'],\n",
       "      dtype='object')"
      ]
     },
     "execution_count": 14,
     "metadata": {},
     "output_type": "execute_result"
    }
   ],
   "source": [
    "manhattan_taxi_zones_gdf.columns"
   ]
  },
  {
   "cell_type": "code",
   "execution_count": 16,
   "metadata": {},
   "outputs": [
    {
     "data": {
      "text/plain": [
       "shape_area       object\n",
       "objectid         object\n",
       "shape_leng       object\n",
       "location_id      object\n",
       "zone             object\n",
       "borough          object\n",
       "geometry       geometry\n",
       "area            float64\n",
       "dtype: object"
      ]
     },
     "execution_count": 16,
     "metadata": {},
     "output_type": "execute_result"
    }
   ],
   "source": [
    "manhattan_taxi_zones_gdf.dtypes"
   ]
  },
  {
   "cell_type": "code",
   "execution_count": 18,
   "metadata": {},
   "outputs": [
    {
     "name": "stdout",
     "output_type": "stream",
     "text": [
      "Duplicate Rows:\n",
      "Empty GeoDataFrame\n",
      "Columns: [shape_area, objectid, shape_leng, location_id, zone, borough, geometry, area]\n",
      "Index: []\n"
     ]
    }
   ],
   "source": [
    "#checking for duplicated rows\n",
    "duplicate_rows = manhattan_taxi_zones_gdf[manhattan_taxi_zones_gdf.duplicated()]\n",
    "\n",
    "#display duplicate rows\n",
    "print(\"Duplicate Rows:\")\n",
    "print(duplicate_rows)\n",
    "\n",
    "#Results: there are no duplicated rows"
   ]
  },
  {
   "cell_type": "code",
   "execution_count": 21,
   "metadata": {},
   "outputs": [
    {
     "name": "stdout",
     "output_type": "stream",
     "text": [
      "<class 'geopandas.geodataframe.GeoDataFrame'>\n",
      "Index: 69 entries, 3 to 262\n",
      "Data columns (total 8 columns):\n",
      " #   Column       Non-Null Count  Dtype   \n",
      "---  ------       --------------  -----   \n",
      " 0   shape_area   69 non-null     object  \n",
      " 1   objectid     69 non-null     object  \n",
      " 2   shape_leng   69 non-null     object  \n",
      " 3   location_id  69 non-null     object  \n",
      " 4   zone         69 non-null     object  \n",
      " 5   borough      69 non-null     object  \n",
      " 6   geometry     69 non-null     geometry\n",
      " 7   area         69 non-null     float64 \n",
      "dtypes: float64(1), geometry(1), object(6)\n",
      "memory usage: 4.9+ KB\n"
     ]
    }
   ],
   "source": [
    "manhattan_taxi_zones_gdf.info()"
   ]
  },
  {
   "cell_type": "code",
   "execution_count": 22,
   "metadata": {},
   "outputs": [
    {
     "data": {
      "text/plain": [
       "shape_area     0\n",
       "objectid       0\n",
       "shape_leng     0\n",
       "location_id    0\n",
       "zone           0\n",
       "borough        0\n",
       "geometry       0\n",
       "area           0\n",
       "dtype: int64"
      ]
     },
     "execution_count": 22,
     "metadata": {},
     "output_type": "execute_result"
    }
   ],
   "source": [
    "manhattan_taxi_zones_gdf.isnull().sum()\n",
    "#there are no null values"
   ]
  },
  {
   "cell_type": "code",
   "execution_count": 23,
   "metadata": {},
   "outputs": [
    {
     "data": {
      "text/html": [
       "<div>\n",
       "<style scoped>\n",
       "    .dataframe tbody tr th:only-of-type {\n",
       "        vertical-align: middle;\n",
       "    }\n",
       "\n",
       "    .dataframe tbody tr th {\n",
       "        vertical-align: top;\n",
       "    }\n",
       "\n",
       "    .dataframe thead th {\n",
       "        text-align: right;\n",
       "    }\n",
       "</style>\n",
       "<table border=\"1\" class=\"dataframe\">\n",
       "  <thead>\n",
       "    <tr style=\"text-align: right;\">\n",
       "      <th></th>\n",
       "      <th>area</th>\n",
       "    </tr>\n",
       "  </thead>\n",
       "  <tbody>\n",
       "    <tr>\n",
       "      <th>count</th>\n",
       "      <td>69.000000</td>\n",
       "    </tr>\n",
       "    <tr>\n",
       "      <th>mean</th>\n",
       "      <td>0.000091</td>\n",
       "    </tr>\n",
       "    <tr>\n",
       "      <th>std</th>\n",
       "      <td>0.000066</td>\n",
       "    </tr>\n",
       "    <tr>\n",
       "      <th>min</th>\n",
       "      <td>0.000006</td>\n",
       "    </tr>\n",
       "    <tr>\n",
       "      <th>25%</th>\n",
       "      <td>0.000049</td>\n",
       "    </tr>\n",
       "    <tr>\n",
       "      <th>50%</th>\n",
       "      <td>0.000074</td>\n",
       "    </tr>\n",
       "    <tr>\n",
       "      <th>75%</th>\n",
       "      <td>0.000108</td>\n",
       "    </tr>\n",
       "    <tr>\n",
       "      <th>max</th>\n",
       "      <td>0.000380</td>\n",
       "    </tr>\n",
       "  </tbody>\n",
       "</table>\n",
       "</div>"
      ],
      "text/plain": [
       "            area\n",
       "count  69.000000\n",
       "mean    0.000091\n",
       "std     0.000066\n",
       "min     0.000006\n",
       "25%     0.000049\n",
       "50%     0.000074\n",
       "75%     0.000108\n",
       "max     0.000380"
      ]
     },
     "execution_count": 23,
     "metadata": {},
     "output_type": "execute_result"
    }
   ],
   "source": [
    "manhattan_taxi_zones_gdf.describe()"
   ]
  },
  {
   "cell_type": "code",
   "execution_count": 10,
   "metadata": {},
   "outputs": [],
   "source": [
    "import folium \n",
    "import matplotlib.pyplot as plt\n",
    "import mapclassify"
   ]
  },
  {
   "cell_type": "code",
   "execution_count": 11,
   "metadata": {},
   "outputs": [
    {
     "name": "stderr",
     "output_type": "stream",
     "text": [
      "C:\\Users\\Justh\\AppData\\Local\\Temp\\ipykernel_10908\\1798795256.py:1: UserWarning: Geometry is in a geographic CRS. Results from 'area' are likely incorrect. Use 'GeoSeries.to_crs()' to re-project geometries to a projected CRS before this operation.\n",
      "\n",
      "  manhattan_taxi_zones_gdf[\"area\"] = manhattan_taxi_zones_gdf.area\n",
      "c:\\Users\\Justh\\anaconda3\\envs\\comp47360\\Lib\\site-packages\\geopandas\\geodataframe.py:1528: SettingWithCopyWarning: \n",
      "A value is trying to be set on a copy of a slice from a DataFrame.\n",
      "Try using .loc[row_indexer,col_indexer] = value instead\n",
      "\n",
      "See the caveats in the documentation: https://pandas.pydata.org/pandas-docs/stable/user_guide/indexing.html#returning-a-view-versus-a-copy\n",
      "  super().__setitem__(key, value)\n"
     ]
    },
    {
     "data": {
      "text/plain": [
       "3      0.000079\n",
       "9      0.000042\n",
       "12     0.000011\n",
       "13     0.000049\n",
       "40     0.000143\n",
       "         ...   \n",
       "246    0.000229\n",
       "248    0.000127\n",
       "251    0.000072\n",
       "261    0.000034\n",
       "262    0.000069\n",
       "Name: area, Length: 69, dtype: float64"
      ]
     },
     "execution_count": 11,
     "metadata": {},
     "output_type": "execute_result"
    }
   ],
   "source": [
    "manhattan_taxi_zones_gdf[\"area\"] = manhattan_taxi_zones_gdf.area\n",
    "manhattan_taxi_zones_gdf[\"area\"]"
   ]
  }
 ],
 "metadata": {
  "kernelspec": {
   "display_name": "comp47360",
   "language": "python",
   "name": "python3"
  },
  "language_info": {
   "codemirror_mode": {
    "name": "ipython",
    "version": 3
   },
   "file_extension": ".py",
   "mimetype": "text/x-python",
   "name": "python",
   "nbconvert_exporter": "python",
   "pygments_lexer": "ipython3",
   "version": "3.12.3"
  }
 },
 "nbformat": 4,
 "nbformat_minor": 2
}
