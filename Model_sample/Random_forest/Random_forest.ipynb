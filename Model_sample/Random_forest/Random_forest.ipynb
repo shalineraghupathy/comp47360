{
 "cells": [
  {
   "cell_type": "code",
   "execution_count": 21,
   "metadata": {},
   "outputs": [],
   "source": [
    "from sklearn.tree import DecisionTreeClassifier\n",
    "from sklearn.ensemble import RandomForestRegressor\n",
    "import pandas as pd\n",
    "from scipy.sparse import csr_matrix"
   ]
  },
  {
   "cell_type": "code",
   "execution_count": 2,
   "metadata": {},
   "outputs": [],
   "source": [
    "from scipy.sparse import hstack"
   ]
  },
  {
   "cell_type": "code",
   "execution_count": 3,
   "metadata": {},
   "outputs": [],
   "source": [
    "from sklearn.preprocessing import OneHotEncoder,StandardScaler"
   ]
  },
  {
   "cell_type": "code",
   "execution_count": 4,
   "metadata": {},
   "outputs": [],
   "source": [
    "from sklearn.model_selection import train_test_split"
   ]
  },
  {
   "cell_type": "code",
   "execution_count": 5,
   "metadata": {},
   "outputs": [],
   "source": [
    "pd.set_option('display.max_columns', None)"
   ]
  },
  {
   "cell_type": "code",
   "execution_count": 6,
   "metadata": {},
   "outputs": [
    {
     "name": "stderr",
     "output_type": "stream",
     "text": [
      "C:\\Users\\Justh\\AppData\\Local\\Temp\\ipykernel_17672\\3410809604.py:1: DtypeWarning: Columns (16) have mixed types. Specify dtype option on import or set low_memory=False.\n",
      "  df= pd.read_csv('parks_busyness_weather_normalized.csv')\n"
     ]
    }
   ],
   "source": [
    "df= pd.read_csv('parks_busyness_weather_normalized.csv')"
   ]
  },
  {
   "cell_type": "code",
   "execution_count": 7,
   "metadata": {},
   "outputs": [
    {
     "data": {
      "text/html": [
       "<div>\n",
       "<style scoped>\n",
       "    .dataframe tbody tr th:only-of-type {\n",
       "        vertical-align: middle;\n",
       "    }\n",
       "\n",
       "    .dataframe tbody tr th {\n",
       "        vertical-align: top;\n",
       "    }\n",
       "\n",
       "    .dataframe thead th {\n",
       "        text-align: right;\n",
       "    }\n",
       "</style>\n",
       "<table border=\"1\" class=\"dataframe\">\n",
       "  <thead>\n",
       "    <tr style=\"text-align: right;\">\n",
       "      <th></th>\n",
       "      <th>park_id</th>\n",
       "      <th>park_name</th>\n",
       "      <th>park_area</th>\n",
       "      <th>year</th>\n",
       "      <th>month</th>\n",
       "      <th>day</th>\n",
       "      <th>hour</th>\n",
       "      <th>day_of_week</th>\n",
       "      <th>weekend</th>\n",
       "      <th>season</th>\n",
       "      <th>isHoliday?</th>\n",
       "      <th>taxi_zone_busyness</th>\n",
       "      <th>taxi_zone_area</th>\n",
       "      <th>remaining_taxi_zone_area</th>\n",
       "      <th>park_proportion</th>\n",
       "      <th>park_busyness</th>\n",
       "      <th>taxi_zone_ids</th>\n",
       "      <th>taxi_zones</th>\n",
       "      <th>normalized_park_busyness</th>\n",
       "      <th>park_busyness_percentile</th>\n",
       "      <th>geometry</th>\n",
       "      <th>datetime</th>\n",
       "      <th>dt_iso</th>\n",
       "      <th>temp</th>\n",
       "      <th>temp_min</th>\n",
       "      <th>temp_max</th>\n",
       "      <th>rain_1h</th>\n",
       "      <th>rain_3h</th>\n",
       "    </tr>\n",
       "  </thead>\n",
       "  <tbody>\n",
       "    <tr>\n",
       "      <th>0</th>\n",
       "      <td>PK101</td>\n",
       "      <td>Inwood Hill Park</td>\n",
       "      <td>784904.717278</td>\n",
       "      <td>2022</td>\n",
       "      <td>1</td>\n",
       "      <td>1</td>\n",
       "      <td>11</td>\n",
       "      <td>5</td>\n",
       "      <td>1</td>\n",
       "      <td>4</td>\n",
       "      <td>1</td>\n",
       "      <td>3</td>\n",
       "      <td>2.104281e+06</td>\n",
       "      <td>1.319376e+06</td>\n",
       "      <td>0.373004</td>\n",
       "      <td>1.119011</td>\n",
       "      <td>243</td>\n",
       "      <td>Washington Heights North</td>\n",
       "      <td>1.425665e-06</td>\n",
       "      <td>15.893746</td>\n",
       "      <td>POLYGON ((-73.9320015 40.86963009999998, -73.9...</td>\n",
       "      <td>2022-01-01 11:00:00</td>\n",
       "      <td>2022-01-01 11:00:00</td>\n",
       "      <td>10.21</td>\n",
       "      <td>9.22</td>\n",
       "      <td>11.00</td>\n",
       "      <td>0.25</td>\n",
       "      <td>0.0</td>\n",
       "    </tr>\n",
       "    <tr>\n",
       "      <th>1</th>\n",
       "      <td>PK101</td>\n",
       "      <td>Inwood Hill Park</td>\n",
       "      <td>784904.717278</td>\n",
       "      <td>2022</td>\n",
       "      <td>1</td>\n",
       "      <td>1</td>\n",
       "      <td>17</td>\n",
       "      <td>5</td>\n",
       "      <td>1</td>\n",
       "      <td>4</td>\n",
       "      <td>1</td>\n",
       "      <td>6</td>\n",
       "      <td>2.104281e+06</td>\n",
       "      <td>1.319376e+06</td>\n",
       "      <td>0.373004</td>\n",
       "      <td>2.238022</td>\n",
       "      <td>243</td>\n",
       "      <td>Washington Heights North</td>\n",
       "      <td>2.851330e-06</td>\n",
       "      <td>30.453822</td>\n",
       "      <td>POLYGON ((-73.9320015 40.86963009999998, -73.9...</td>\n",
       "      <td>2022-01-01 17:00:00</td>\n",
       "      <td>2022-01-01 17:00:00</td>\n",
       "      <td>12.12</td>\n",
       "      <td>11.47</td>\n",
       "      <td>12.78</td>\n",
       "      <td>0.38</td>\n",
       "      <td>0.0</td>\n",
       "    </tr>\n",
       "    <tr>\n",
       "      <th>2</th>\n",
       "      <td>PK101</td>\n",
       "      <td>Inwood Hill Park</td>\n",
       "      <td>784904.717278</td>\n",
       "      <td>2022</td>\n",
       "      <td>1</td>\n",
       "      <td>1</td>\n",
       "      <td>19</td>\n",
       "      <td>5</td>\n",
       "      <td>1</td>\n",
       "      <td>4</td>\n",
       "      <td>1</td>\n",
       "      <td>6</td>\n",
       "      <td>2.104281e+06</td>\n",
       "      <td>1.319376e+06</td>\n",
       "      <td>0.373004</td>\n",
       "      <td>2.238022</td>\n",
       "      <td>243</td>\n",
       "      <td>Washington Heights North</td>\n",
       "      <td>2.851330e-06</td>\n",
       "      <td>30.453822</td>\n",
       "      <td>POLYGON ((-73.9320015 40.86963009999998, -73.9...</td>\n",
       "      <td>2022-01-01 19:00:00</td>\n",
       "      <td>2022-01-01 19:00:00</td>\n",
       "      <td>12.16</td>\n",
       "      <td>11.45</td>\n",
       "      <td>12.81</td>\n",
       "      <td>0.25</td>\n",
       "      <td>0.0</td>\n",
       "    </tr>\n",
       "    <tr>\n",
       "      <th>3</th>\n",
       "      <td>PK101</td>\n",
       "      <td>Inwood Hill Park</td>\n",
       "      <td>784904.717278</td>\n",
       "      <td>2022</td>\n",
       "      <td>1</td>\n",
       "      <td>10</td>\n",
       "      <td>12</td>\n",
       "      <td>0</td>\n",
       "      <td>0</td>\n",
       "      <td>4</td>\n",
       "      <td>0</td>\n",
       "      <td>1</td>\n",
       "      <td>2.104281e+06</td>\n",
       "      <td>1.319376e+06</td>\n",
       "      <td>0.373004</td>\n",
       "      <td>0.373004</td>\n",
       "      <td>243</td>\n",
       "      <td>Washington Heights North</td>\n",
       "      <td>4.752217e-07</td>\n",
       "      <td>3.029150</td>\n",
       "      <td>POLYGON ((-73.9320015 40.86963009999998, -73.9...</td>\n",
       "      <td>2022-01-10 12:00:00</td>\n",
       "      <td>2022-01-10 12:00:00</td>\n",
       "      <td>-1.61</td>\n",
       "      <td>-2.21</td>\n",
       "      <td>-0.78</td>\n",
       "      <td>0.00</td>\n",
       "      <td>0.0</td>\n",
       "    </tr>\n",
       "    <tr>\n",
       "      <th>4</th>\n",
       "      <td>PK101</td>\n",
       "      <td>Inwood Hill Park</td>\n",
       "      <td>784904.717278</td>\n",
       "      <td>2022</td>\n",
       "      <td>1</td>\n",
       "      <td>10</td>\n",
       "      <td>13</td>\n",
       "      <td>0</td>\n",
       "      <td>0</td>\n",
       "      <td>4</td>\n",
       "      <td>0</td>\n",
       "      <td>1</td>\n",
       "      <td>2.104281e+06</td>\n",
       "      <td>1.319376e+06</td>\n",
       "      <td>0.373004</td>\n",
       "      <td>0.373004</td>\n",
       "      <td>243</td>\n",
       "      <td>Washington Heights North</td>\n",
       "      <td>4.752217e-07</td>\n",
       "      <td>3.029150</td>\n",
       "      <td>POLYGON ((-73.9320015 40.86963009999998, -73.9...</td>\n",
       "      <td>2022-01-10 13:00:00</td>\n",
       "      <td>2022-01-10 13:00:00</td>\n",
       "      <td>-1.88</td>\n",
       "      <td>-3.21</td>\n",
       "      <td>-1.22</td>\n",
       "      <td>0.00</td>\n",
       "      <td>0.0</td>\n",
       "    </tr>\n",
       "  </tbody>\n",
       "</table>\n",
       "</div>"
      ],
      "text/plain": [
       "  park_id         park_name      park_area  year  month  day  hour  \\\n",
       "0   PK101  Inwood Hill Park  784904.717278  2022      1    1    11   \n",
       "1   PK101  Inwood Hill Park  784904.717278  2022      1    1    17   \n",
       "2   PK101  Inwood Hill Park  784904.717278  2022      1    1    19   \n",
       "3   PK101  Inwood Hill Park  784904.717278  2022      1   10    12   \n",
       "4   PK101  Inwood Hill Park  784904.717278  2022      1   10    13   \n",
       "\n",
       "   day_of_week  weekend  season  isHoliday?  taxi_zone_busyness  \\\n",
       "0            5        1       4           1                   3   \n",
       "1            5        1       4           1                   6   \n",
       "2            5        1       4           1                   6   \n",
       "3            0        0       4           0                   1   \n",
       "4            0        0       4           0                   1   \n",
       "\n",
       "   taxi_zone_area  remaining_taxi_zone_area  park_proportion  park_busyness  \\\n",
       "0    2.104281e+06              1.319376e+06         0.373004       1.119011   \n",
       "1    2.104281e+06              1.319376e+06         0.373004       2.238022   \n",
       "2    2.104281e+06              1.319376e+06         0.373004       2.238022   \n",
       "3    2.104281e+06              1.319376e+06         0.373004       0.373004   \n",
       "4    2.104281e+06              1.319376e+06         0.373004       0.373004   \n",
       "\n",
       "  taxi_zone_ids                taxi_zones  normalized_park_busyness  \\\n",
       "0           243  Washington Heights North              1.425665e-06   \n",
       "1           243  Washington Heights North              2.851330e-06   \n",
       "2           243  Washington Heights North              2.851330e-06   \n",
       "3           243  Washington Heights North              4.752217e-07   \n",
       "4           243  Washington Heights North              4.752217e-07   \n",
       "\n",
       "   park_busyness_percentile  \\\n",
       "0                 15.893746   \n",
       "1                 30.453822   \n",
       "2                 30.453822   \n",
       "3                  3.029150   \n",
       "4                  3.029150   \n",
       "\n",
       "                                            geometry             datetime  \\\n",
       "0  POLYGON ((-73.9320015 40.86963009999998, -73.9...  2022-01-01 11:00:00   \n",
       "1  POLYGON ((-73.9320015 40.86963009999998, -73.9...  2022-01-01 17:00:00   \n",
       "2  POLYGON ((-73.9320015 40.86963009999998, -73.9...  2022-01-01 19:00:00   \n",
       "3  POLYGON ((-73.9320015 40.86963009999998, -73.9...  2022-01-10 12:00:00   \n",
       "4  POLYGON ((-73.9320015 40.86963009999998, -73.9...  2022-01-10 13:00:00   \n",
       "\n",
       "                dt_iso   temp  temp_min  temp_max  rain_1h  rain_3h  \n",
       "0  2022-01-01 11:00:00  10.21      9.22     11.00     0.25      0.0  \n",
       "1  2022-01-01 17:00:00  12.12     11.47     12.78     0.38      0.0  \n",
       "2  2022-01-01 19:00:00  12.16     11.45     12.81     0.25      0.0  \n",
       "3  2022-01-10 12:00:00  -1.61     -2.21     -0.78     0.00      0.0  \n",
       "4  2022-01-10 13:00:00  -1.88     -3.21     -1.22     0.00      0.0  "
      ]
     },
     "execution_count": 7,
     "metadata": {},
     "output_type": "execute_result"
    }
   ],
   "source": [
    "df.head()"
   ]
  },
  {
   "cell_type": "code",
   "execution_count": 8,
   "metadata": {},
   "outputs": [
    {
     "data": {
      "text/plain": [
       "park_id                      object\n",
       "park_name                    object\n",
       "park_area                   float64\n",
       "year                          int64\n",
       "month                         int64\n",
       "day                           int64\n",
       "hour                          int64\n",
       "day_of_week                   int64\n",
       "weekend                       int64\n",
       "season                        int64\n",
       "isHoliday?                    int64\n",
       "taxi_zone_busyness            int64\n",
       "taxi_zone_area              float64\n",
       "remaining_taxi_zone_area    float64\n",
       "park_proportion             float64\n",
       "park_busyness               float64\n",
       "taxi_zone_ids                object\n",
       "taxi_zones                   object\n",
       "normalized_park_busyness    float64\n",
       "park_busyness_percentile    float64\n",
       "geometry                     object\n",
       "datetime                     object\n",
       "dt_iso                       object\n",
       "temp                        float64\n",
       "temp_min                    float64\n",
       "temp_max                    float64\n",
       "rain_1h                     float64\n",
       "rain_3h                     float64\n",
       "dtype: object"
      ]
     },
     "execution_count": 8,
     "metadata": {},
     "output_type": "execute_result"
    }
   ],
   "source": [
    "df.dtypes"
   ]
  },
  {
   "cell_type": "code",
   "execution_count": 9,
   "metadata": {},
   "outputs": [],
   "source": [
    "categorical_features= ['park_id', 'day_of_week','weekend','season','isHoliday?']"
   ]
  },
  {
   "cell_type": "code",
   "execution_count": 10,
   "metadata": {},
   "outputs": [],
   "source": [
    "df[categorical_features]=df[categorical_features].astype(str)"
   ]
  },
  {
   "cell_type": "code",
   "execution_count": 11,
   "metadata": {},
   "outputs": [
    {
     "data": {
      "text/plain": [
       "park_id                      object\n",
       "park_name                    object\n",
       "park_area                   float64\n",
       "year                          int64\n",
       "month                         int64\n",
       "day                           int64\n",
       "hour                          int64\n",
       "day_of_week                  object\n",
       "weekend                      object\n",
       "season                       object\n",
       "isHoliday?                   object\n",
       "taxi_zone_busyness            int64\n",
       "taxi_zone_area              float64\n",
       "remaining_taxi_zone_area    float64\n",
       "park_proportion             float64\n",
       "park_busyness               float64\n",
       "taxi_zone_ids                object\n",
       "taxi_zones                   object\n",
       "normalized_park_busyness    float64\n",
       "park_busyness_percentile    float64\n",
       "geometry                     object\n",
       "datetime                     object\n",
       "dt_iso                       object\n",
       "temp                        float64\n",
       "temp_min                    float64\n",
       "temp_max                    float64\n",
       "rain_1h                     float64\n",
       "rain_3h                     float64\n",
       "dtype: object"
      ]
     },
     "execution_count": 11,
     "metadata": {},
     "output_type": "execute_result"
    }
   ],
   "source": [
    "df.dtypes"
   ]
  },
  {
   "cell_type": "code",
   "execution_count": 12,
   "metadata": {},
   "outputs": [],
   "source": [
    "encoder = OneHotEncoder()\n",
    "encoded_features = encoder.fit_transform(df[categorical_features]) "
   ]
  },
  {
   "cell_type": "code",
   "execution_count": 13,
   "metadata": {},
   "outputs": [],
   "source": [
    "numeric_features= ['temp','rain_1h','rain_3h']"
   ]
  },
  {
   "cell_type": "code",
   "execution_count": 14,
   "metadata": {},
   "outputs": [],
   "source": [
    "scaler = StandardScaler()\n",
    "scaled_features = scaler.fit_transform(df[numeric_features])"
   ]
  },
  {
   "cell_type": "code",
   "execution_count": 15,
   "metadata": {},
   "outputs": [],
   "source": [
    "if encoded_features.shape[0] == scaled_features.shape[0]:\n",
    "    scaled_features_s= csr_matrix(scaled_features)\n",
    "    \n"
   ]
  },
  {
   "cell_type": "code",
   "execution_count": 16,
   "metadata": {},
   "outputs": [
    {
     "data": {
      "text/plain": [
       "(336365, 206)"
      ]
     },
     "execution_count": 16,
     "metadata": {},
     "output_type": "execute_result"
    }
   ],
   "source": [
    "encoded_features.shape"
   ]
  },
  {
   "cell_type": "code",
   "execution_count": 17,
   "metadata": {},
   "outputs": [
    {
     "data": {
      "text/plain": [
       "(336365, 3)"
      ]
     },
     "execution_count": 17,
     "metadata": {},
     "output_type": "execute_result"
    }
   ],
   "source": [
    "scaled_features.shape"
   ]
  },
  {
   "cell_type": "code",
   "execution_count": 18,
   "metadata": {},
   "outputs": [],
   "source": [
    "combined_features = hstack((encoded_features, scaled_features))"
   ]
  },
  {
   "cell_type": "code",
   "execution_count": 19,
   "metadata": {},
   "outputs": [],
   "source": [
    "X_train, X_test, y_train, y_test = train_test_split(combined_features, df['park_busyness_percentile'], test_size=0.2, random_state=42)"
   ]
  },
  {
   "cell_type": "code",
   "execution_count": 22,
   "metadata": {},
   "outputs": [],
   "source": [
    "# Train a Random Forest model\n",
    "model = RandomForestRegressor()\n",
    "model.fit(X_train, y_train)\n",
    "\n",
    "# Make predictions\n",
    "y_pred = model.predict(X_test)\n",
    "\n"
   ]
  },
  {
   "cell_type": "code",
   "execution_count": null,
   "metadata": {},
   "outputs": [],
   "source": [
    "# Evaluate the model\n",
    "accuracy = accuracy_score(y_test, y_pred)\n",
    "print(f\"Accuracy: {accuracy:.2f}\")"
   ]
  }
 ],
 "metadata": {
  "kernelspec": {
   "display_name": "comp47360",
   "language": "python",
   "name": "python3"
  },
  "language_info": {
   "codemirror_mode": {
    "name": "ipython",
    "version": 3
   },
   "file_extension": ".py",
   "mimetype": "text/x-python",
   "name": "python",
   "nbconvert_exporter": "python",
   "pygments_lexer": "ipython3",
   "version": "3.12.3"
  }
 },
 "nbformat": 4,
 "nbformat_minor": 2
}
