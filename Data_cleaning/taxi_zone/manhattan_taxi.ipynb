{
 "cells": [
  {
   "cell_type": "markdown",
   "metadata": {},
   "source": [
    "## Manhattan taxi zones"
   ]
  },
  {
   "cell_type": "code",
   "execution_count": 25,
   "metadata": {},
   "outputs": [],
   "source": [
    "import pandas as pd\n",
    "import geopandas as gpd\n",
    "\n",
    "# Load data\n",
    "taxi_zones_gdf = gpd.read_file(\"NYC_Taxi_Zones.geojson\")\n",
    "\n",
    "manhattan_taxi_zones_gdf = taxi_zones_gdf[taxi_zones_gdf['borough'] == 'Manhattan']\n",
    "manhattan_taxi_zones_gdf.to_file('manhattan_taxi_zones.geojson', driver='GeoJSON')\n",
    "\n",
    "manhattan_taxi_zones_df = pd.DataFrame(manhattan_taxi_zones_gdf)\n",
    "manhattan_taxi_zones_df.to_csv('manhattan_taxi_zones.csv', index=False)  \n",
    "\n",
    "\n"
   ]
  },
  {
   "cell_type": "code",
   "execution_count": 26,
   "metadata": {},
   "outputs": [
    {
     "data": {
      "text/plain": [
       "(69, 7)"
      ]
     },
     "execution_count": 26,
     "metadata": {},
     "output_type": "execute_result"
    }
   ],
   "source": [
    "manhattan_taxi_zones_gdf.shape"
   ]
  },
  {
   "cell_type": "code",
   "execution_count": 27,
   "metadata": {},
   "outputs": [
    {
     "data": {
      "text/plain": [
       "Index(['shape_area', 'objectid', 'shape_leng', 'location_id', 'zone',\n",
       "       'borough', 'geometry'],\n",
       "      dtype='object')"
      ]
     },
     "execution_count": 27,
     "metadata": {},
     "output_type": "execute_result"
    }
   ],
   "source": [
    "manhattan_taxi_zones_gdf.columns"
   ]
  },
  {
   "cell_type": "code",
   "execution_count": 28,
   "metadata": {},
   "outputs": [
    {
     "data": {
      "text/plain": [
       "shape_area       object\n",
       "objectid         object\n",
       "shape_leng       object\n",
       "location_id      object\n",
       "zone             object\n",
       "borough          object\n",
       "geometry       geometry\n",
       "dtype: object"
      ]
     },
     "execution_count": 28,
     "metadata": {},
     "output_type": "execute_result"
    }
   ],
   "source": [
    "manhattan_taxi_zones_gdf.dtypes"
   ]
  },
  {
   "cell_type": "code",
   "execution_count": 29,
   "metadata": {},
   "outputs": [
    {
     "name": "stdout",
     "output_type": "stream",
     "text": [
      "Duplicate Rows:\n",
      "Empty GeoDataFrame\n",
      "Columns: [shape_area, objectid, shape_leng, location_id, zone, borough, geometry]\n",
      "Index: []\n"
     ]
    }
   ],
   "source": [
    "#checking for duplicated rows\n",
    "duplicate_rows = manhattan_taxi_zones_gdf[manhattan_taxi_zones_gdf.duplicated()]\n",
    "\n",
    "#display duplicate rows\n",
    "print(\"Duplicate Rows:\")\n",
    "print(duplicate_rows)\n",
    "\n",
    "#Results: there are no duplicated rows"
   ]
  },
  {
   "cell_type": "code",
   "execution_count": 30,
   "metadata": {},
   "outputs": [
    {
     "name": "stdout",
     "output_type": "stream",
     "text": [
      "<class 'geopandas.geodataframe.GeoDataFrame'>\n",
      "Index: 69 entries, 3 to 262\n",
      "Data columns (total 7 columns):\n",
      " #   Column       Non-Null Count  Dtype   \n",
      "---  ------       --------------  -----   \n",
      " 0   shape_area   69 non-null     object  \n",
      " 1   objectid     69 non-null     object  \n",
      " 2   shape_leng   69 non-null     object  \n",
      " 3   location_id  69 non-null     object  \n",
      " 4   zone         69 non-null     object  \n",
      " 5   borough      69 non-null     object  \n",
      " 6   geometry     69 non-null     geometry\n",
      "dtypes: geometry(1), object(6)\n",
      "memory usage: 4.3+ KB\n"
     ]
    }
   ],
   "source": [
    "manhattan_taxi_zones_gdf.info()"
   ]
  },
  {
   "cell_type": "code",
   "execution_count": 31,
   "metadata": {},
   "outputs": [
    {
     "data": {
      "text/plain": [
       "shape_area     0\n",
       "objectid       0\n",
       "shape_leng     0\n",
       "location_id    0\n",
       "zone           0\n",
       "borough        0\n",
       "geometry       0\n",
       "dtype: int64"
      ]
     },
     "execution_count": 31,
     "metadata": {},
     "output_type": "execute_result"
    }
   ],
   "source": [
    "manhattan_taxi_zones_gdf.isnull().sum()\n",
    "#there are no null values"
   ]
  },
  {
   "cell_type": "code",
   "execution_count": 32,
   "metadata": {},
   "outputs": [
    {
     "data": {
      "text/html": [
       "<div>\n",
       "<style scoped>\n",
       "    .dataframe tbody tr th:only-of-type {\n",
       "        vertical-align: middle;\n",
       "    }\n",
       "\n",
       "    .dataframe tbody tr th {\n",
       "        vertical-align: top;\n",
       "    }\n",
       "\n",
       "    .dataframe thead th {\n",
       "        text-align: right;\n",
       "    }\n",
       "</style>\n",
       "<table border=\"1\" class=\"dataframe\">\n",
       "  <thead>\n",
       "    <tr style=\"text-align: right;\">\n",
       "      <th></th>\n",
       "      <th>shape_area</th>\n",
       "      <th>objectid</th>\n",
       "      <th>shape_leng</th>\n",
       "      <th>location_id</th>\n",
       "      <th>zone</th>\n",
       "      <th>borough</th>\n",
       "      <th>geometry</th>\n",
       "    </tr>\n",
       "  </thead>\n",
       "  <tbody>\n",
       "    <tr>\n",
       "      <th>count</th>\n",
       "      <td>69</td>\n",
       "      <td>69</td>\n",
       "      <td>69</td>\n",
       "      <td>69</td>\n",
       "      <td>69</td>\n",
       "      <td>69</td>\n",
       "      <td>69</td>\n",
       "    </tr>\n",
       "    <tr>\n",
       "      <th>unique</th>\n",
       "      <td>69</td>\n",
       "      <td>69</td>\n",
       "      <td>69</td>\n",
       "      <td>67</td>\n",
       "      <td>67</td>\n",
       "      <td>1</td>\n",
       "      <td>69</td>\n",
       "    </tr>\n",
       "    <tr>\n",
       "      <th>top</th>\n",
       "      <td>0.000111871946192</td>\n",
       "      <td>4</td>\n",
       "      <td>0.0435665270921</td>\n",
       "      <td>103</td>\n",
       "      <td>Governor's Island/Ellis Island/Liberty Island</td>\n",
       "      <td>Manhattan</td>\n",
       "      <td>MULTIPOLYGON (((-73.97177410965318 40.72582128...</td>\n",
       "    </tr>\n",
       "    <tr>\n",
       "      <th>freq</th>\n",
       "      <td>1</td>\n",
       "      <td>1</td>\n",
       "      <td>1</td>\n",
       "      <td>3</td>\n",
       "      <td>3</td>\n",
       "      <td>69</td>\n",
       "      <td>1</td>\n",
       "    </tr>\n",
       "  </tbody>\n",
       "</table>\n",
       "</div>"
      ],
      "text/plain": [
       "               shape_area objectid       shape_leng location_id  \\\n",
       "count                  69       69               69          69   \n",
       "unique                 69       69               69          67   \n",
       "top     0.000111871946192        4  0.0435665270921         103   \n",
       "freq                    1        1                1           3   \n",
       "\n",
       "                                                 zone    borough  \\\n",
       "count                                              69         69   \n",
       "unique                                             67          1   \n",
       "top     Governor's Island/Ellis Island/Liberty Island  Manhattan   \n",
       "freq                                                3         69   \n",
       "\n",
       "                                                 geometry  \n",
       "count                                                  69  \n",
       "unique                                                 69  \n",
       "top     MULTIPOLYGON (((-73.97177410965318 40.72582128...  \n",
       "freq                                                    1  "
      ]
     },
     "execution_count": 32,
     "metadata": {},
     "output_type": "execute_result"
    }
   ],
   "source": [
    "manhattan_taxi_zones_gdf.describe()"
   ]
  },
  {
   "cell_type": "code",
   "execution_count": 33,
   "metadata": {},
   "outputs": [],
   "source": [
    "import folium \n",
    "import matplotlib.pyplot as plt\n",
    "import mapclassify"
   ]
  },
  {
   "cell_type": "code",
   "execution_count": 34,
   "metadata": {},
   "outputs": [
    {
     "name": "stderr",
     "output_type": "stream",
     "text": [
      "C:\\Users\\Justh\\AppData\\Local\\Temp\\ipykernel_10908\\1798795256.py:1: UserWarning: Geometry is in a geographic CRS. Results from 'area' are likely incorrect. Use 'GeoSeries.to_crs()' to re-project geometries to a projected CRS before this operation.\n",
      "\n",
      "  manhattan_taxi_zones_gdf[\"area\"] = manhattan_taxi_zones_gdf.area\n",
      "c:\\Users\\Justh\\anaconda3\\envs\\comp47360\\Lib\\site-packages\\geopandas\\geodataframe.py:1528: SettingWithCopyWarning: \n",
      "A value is trying to be set on a copy of a slice from a DataFrame.\n",
      "Try using .loc[row_indexer,col_indexer] = value instead\n",
      "\n",
      "See the caveats in the documentation: https://pandas.pydata.org/pandas-docs/stable/user_guide/indexing.html#returning-a-view-versus-a-copy\n",
      "  super().__setitem__(key, value)\n"
     ]
    },
    {
     "data": {
      "text/plain": [
       "3      0.000079\n",
       "9      0.000042\n",
       "12     0.000011\n",
       "13     0.000049\n",
       "40     0.000143\n",
       "         ...   \n",
       "246    0.000229\n",
       "248    0.000127\n",
       "251    0.000072\n",
       "261    0.000034\n",
       "262    0.000069\n",
       "Name: area, Length: 69, dtype: float64"
      ]
     },
     "execution_count": 34,
     "metadata": {},
     "output_type": "execute_result"
    }
   ],
   "source": [
    "manhattan_taxi_zones_gdf[\"area\"] = manhattan_taxi_zones_gdf.area\n",
    "manhattan_taxi_zones_gdf[\"area\"]"
   ]
  }
 ],
 "metadata": {
  "kernelspec": {
   "display_name": "comp47360",
   "language": "python",
   "name": "python3"
  },
  "language_info": {
   "codemirror_mode": {
    "name": "ipython",
    "version": 3
   },
   "file_extension": ".py",
   "mimetype": "text/x-python",
   "name": "python",
   "nbconvert_exporter": "python",
   "pygments_lexer": "ipython3",
   "version": "3.12.3"
  }
 },
 "nbformat": 4,
 "nbformat_minor": 2
}
