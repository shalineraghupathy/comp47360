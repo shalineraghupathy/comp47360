{
 "cells": [
  {
   "cell_type": "code",
   "execution_count": 1,
   "metadata": {},
   "outputs": [],
   "source": [
    "import geopandas as gpd\n",
    "from shapely.geometry import Point, Polygon, MultiPolygon, LineString, MultiLineString"
   ]
  },
  {
   "cell_type": "code",
   "execution_count": 2,
   "metadata": {},
   "outputs": [],
   "source": [
    "manhattan_parks_gdf = gpd.read_file(\"manhattan_parks_geocoded.geojson\")"
   ]
  },
  {
   "cell_type": "markdown",
   "metadata": {},
   "source": [
    "check CRS"
   ]
  },
  {
   "cell_type": "code",
   "execution_count": 4,
   "metadata": {},
   "outputs": [
    {
     "data": {
      "text/plain": [
       "<Geographic 2D CRS: EPSG:4326>\n",
       "Name: WGS 84\n",
       "Axis Info [ellipsoidal]:\n",
       "- Lat[north]: Geodetic latitude (degree)\n",
       "- Lon[east]: Geodetic longitude (degree)\n",
       "Area of Use:\n",
       "- undefined\n",
       "Datum: World Geodetic System 1984\n",
       "- Ellipsoid: WGS 84\n",
       "- Prime Meridian: Greenwich"
      ]
     },
     "execution_count": 4,
     "metadata": {},
     "output_type": "execute_result"
    }
   ],
   "source": [
    "manhattan_parks_gdf.crs"
   ]
  },
  {
   "cell_type": "markdown",
   "metadata": {},
   "source": [
    "Change CRS to EPSG 32618 for calculations"
   ]
  },
  {
   "cell_type": "code",
   "execution_count": 5,
   "metadata": {},
   "outputs": [],
   "source": [
    "manhattan_parks_gdf= manhattan_parks_gdf.to_crs(epsg=32618)"
   ]
  },
  {
   "cell_type": "code",
   "execution_count": 6,
   "metadata": {},
   "outputs": [],
   "source": [
    "manhattan_parks_gdf=manhattan_parks_gdf.drop(columns='area',axis=1)"
   ]
  },
  {
   "cell_type": "code",
   "execution_count": 7,
   "metadata": {},
   "outputs": [
    {
     "name": "stdout",
     "output_type": "stream",
     "text": [
      "                                              geometry      park_area\n",
      "0    POLYGON ((588697.294 4513735.907, 588660.844 4...    9506.859431\n",
      "1    POLYGON ((583189.679 4505151.211, 583176.341 4...  696227.552870\n",
      "2    MULTIPOLYGON (((590104.734 4522324.808, 590103...  521310.282769\n",
      "3    MULTIPOLYGON (((584986.193 4507940.755, 584945...   36496.652767\n",
      "4    MULTIPOLYGON (((590333.858 4524352.525, 590327...  281836.601376\n",
      "..                                                 ...            ...\n",
      "467                     POINT (585777.327 4513877.184)     313.654849\n",
      "468                     POINT (585781.018 4513876.206)     313.654849\n",
      "469                     POINT (585773.618 4513871.635)     313.654849\n",
      "470                     POINT (585779.325 4513869.314)     313.654849\n",
      "471                     POINT (585783.313 4513866.818)     313.654849\n",
      "\n",
      "[472 rows x 2 columns]\n"
     ]
    }
   ],
   "source": [
    "\n",
    "def point_to_area(point, radius=10):\n",
    "  \n",
    "    return point.buffer(radius).area\n",
    "\n",
    "\n",
    "def calculate_area(geometry):\n",
    "    if isinstance(geometry, (Polygon, MultiPolygon)):\n",
    "        return geometry.area\n",
    "    elif isinstance(geometry, Point):\n",
    "        return point_to_area(geometry)\n",
    "    elif isinstance(geometry, (LineString, MultiLineString)):\n",
    "        return 0  \n",
    "    else:\n",
    "        return 0\n",
    "\n",
    "manhattan_parks_gdf['park_area'] = manhattan_parks_gdf['geometry'].apply(calculate_area)\n",
    "\n",
    "print(manhattan_parks_gdf[['geometry', 'park_area']])\n"
   ]
  },
  {
   "cell_type": "code",
   "execution_count": 8,
   "metadata": {},
   "outputs": [
    {
     "data": {
      "text/html": [
       "<div>\n",
       "<style scoped>\n",
       "    .dataframe tbody tr th:only-of-type {\n",
       "        vertical-align: middle;\n",
       "    }\n",
       "\n",
       "    .dataframe tbody tr th {\n",
       "        vertical-align: top;\n",
       "    }\n",
       "\n",
       "    .dataframe thead th {\n",
       "        text-align: right;\n",
       "    }\n",
       "</style>\n",
       "<table border=\"1\" class=\"dataframe\">\n",
       "  <thead>\n",
       "    <tr style=\"text-align: right;\">\n",
       "      <th></th>\n",
       "      <th>id</th>\n",
       "      <th>name</th>\n",
       "      <th>website</th>\n",
       "      <th>geometry</th>\n",
       "      <th>park_area</th>\n",
       "    </tr>\n",
       "  </thead>\n",
       "  <tbody>\n",
       "    <tr>\n",
       "      <th>0</th>\n",
       "      <td>relation/1751075</td>\n",
       "      <td>John Jay Park</td>\n",
       "      <td>N/A</td>\n",
       "      <td>POLYGON ((588697.294 4513735.907, 588660.844 4...</td>\n",
       "      <td>9506.859431</td>\n",
       "    </tr>\n",
       "    <tr>\n",
       "      <th>1</th>\n",
       "      <td>relation/2389631</td>\n",
       "      <td>Governors Island</td>\n",
       "      <td>https://www.nps.gov/gois/index.htm</td>\n",
       "      <td>POLYGON ((583189.679 4505151.211, 583176.341 4...</td>\n",
       "      <td>696227.552870</td>\n",
       "    </tr>\n",
       "    <tr>\n",
       "      <th>2</th>\n",
       "      <td>relation/3690816</td>\n",
       "      <td>Highbridge Park</td>\n",
       "      <td>https://www.nycgovparks.org/parks/highbridge-p...</td>\n",
       "      <td>MULTIPOLYGON (((590104.734 4522324.808, 590103...</td>\n",
       "      <td>521310.282769</td>\n",
       "    </tr>\n",
       "    <tr>\n",
       "      <th>3</th>\n",
       "      <td>relation/4099553</td>\n",
       "      <td>Sara D. Roosevelt Park</td>\n",
       "      <td>https://www.nycgovparks.org/parks/sara-d-roose...</td>\n",
       "      <td>MULTIPOLYGON (((584986.193 4507940.755, 584945...</td>\n",
       "      <td>36496.652767</td>\n",
       "    </tr>\n",
       "    <tr>\n",
       "      <th>4</th>\n",
       "      <td>relation/5625630</td>\n",
       "      <td>Fort Tryon Park</td>\n",
       "      <td>https://www.nycgovparks.org/parks/fort-tryon-park</td>\n",
       "      <td>MULTIPOLYGON (((590333.858 4524352.525, 590327...</td>\n",
       "      <td>281836.601376</td>\n",
       "    </tr>\n",
       "  </tbody>\n",
       "</table>\n",
       "</div>"
      ],
      "text/plain": [
       "                 id                    name  \\\n",
       "0  relation/1751075           John Jay Park   \n",
       "1  relation/2389631        Governors Island   \n",
       "2  relation/3690816         Highbridge Park   \n",
       "3  relation/4099553  Sara D. Roosevelt Park   \n",
       "4  relation/5625630         Fort Tryon Park   \n",
       "\n",
       "                                             website  \\\n",
       "0                                                N/A   \n",
       "1                 https://www.nps.gov/gois/index.htm   \n",
       "2  https://www.nycgovparks.org/parks/highbridge-p...   \n",
       "3  https://www.nycgovparks.org/parks/sara-d-roose...   \n",
       "4  https://www.nycgovparks.org/parks/fort-tryon-park   \n",
       "\n",
       "                                            geometry      park_area  \n",
       "0  POLYGON ((588697.294 4513735.907, 588660.844 4...    9506.859431  \n",
       "1  POLYGON ((583189.679 4505151.211, 583176.341 4...  696227.552870  \n",
       "2  MULTIPOLYGON (((590104.734 4522324.808, 590103...  521310.282769  \n",
       "3  MULTIPOLYGON (((584986.193 4507940.755, 584945...   36496.652767  \n",
       "4  MULTIPOLYGON (((590333.858 4524352.525, 590327...  281836.601376  "
      ]
     },
     "execution_count": 8,
     "metadata": {},
     "output_type": "execute_result"
    }
   ],
   "source": [
    "manhattan_parks_gdf.head()"
   ]
  },
  {
   "cell_type": "code",
   "execution_count": 9,
   "metadata": {},
   "outputs": [],
   "source": [
    "manhattan_parks_gdf= manhattan_parks_gdf.to_crs(epsg=4326)"
   ]
  },
  {
   "cell_type": "code",
   "execution_count": 10,
   "metadata": {},
   "outputs": [
    {
     "data": {
      "text/html": [
       "<div>\n",
       "<style scoped>\n",
       "    .dataframe tbody tr th:only-of-type {\n",
       "        vertical-align: middle;\n",
       "    }\n",
       "\n",
       "    .dataframe tbody tr th {\n",
       "        vertical-align: top;\n",
       "    }\n",
       "\n",
       "    .dataframe thead th {\n",
       "        text-align: right;\n",
       "    }\n",
       "</style>\n",
       "<table border=\"1\" class=\"dataframe\">\n",
       "  <thead>\n",
       "    <tr style=\"text-align: right;\">\n",
       "      <th></th>\n",
       "      <th>id</th>\n",
       "      <th>name</th>\n",
       "      <th>website</th>\n",
       "      <th>geometry</th>\n",
       "      <th>park_area</th>\n",
       "    </tr>\n",
       "  </thead>\n",
       "  <tbody>\n",
       "    <tr>\n",
       "      <th>0</th>\n",
       "      <td>relation/1751075</td>\n",
       "      <td>John Jay Park</td>\n",
       "      <td>N/A</td>\n",
       "      <td>POLYGON ((-73.94901 40.76981, -73.94944 40.770...</td>\n",
       "      <td>9506.859431</td>\n",
       "    </tr>\n",
       "    <tr>\n",
       "      <th>1</th>\n",
       "      <td>relation/2389631</td>\n",
       "      <td>Governors Island</td>\n",
       "      <td>https://www.nps.gov/gois/index.htm</td>\n",
       "      <td>POLYGON ((-74.01540 40.69306, -74.01556 40.693...</td>\n",
       "      <td>696227.552870</td>\n",
       "    </tr>\n",
       "    <tr>\n",
       "      <th>2</th>\n",
       "      <td>relation/3690816</td>\n",
       "      <td>Highbridge Park</td>\n",
       "      <td>https://www.nycgovparks.org/parks/highbridge-p...</td>\n",
       "      <td>MULTIPOLYGON (((-73.93110 40.84702, -73.93112 ...</td>\n",
       "      <td>521310.282769</td>\n",
       "    </tr>\n",
       "    <tr>\n",
       "      <th>3</th>\n",
       "      <td>relation/4099553</td>\n",
       "      <td>Sara D. Roosevelt Park</td>\n",
       "      <td>https://www.nycgovparks.org/parks/sara-d-roose...</td>\n",
       "      <td>MULTIPOLYGON (((-73.99377 40.71801, -73.99426 ...</td>\n",
       "      <td>36496.652767</td>\n",
       "    </tr>\n",
       "    <tr>\n",
       "      <th>4</th>\n",
       "      <td>relation/5625630</td>\n",
       "      <td>Fort Tryon Park</td>\n",
       "      <td>https://www.nycgovparks.org/parks/fort-tryon-park</td>\n",
       "      <td>MULTIPOLYGON (((-73.92808 40.86526, -73.92816 ...</td>\n",
       "      <td>281836.601376</td>\n",
       "    </tr>\n",
       "  </tbody>\n",
       "</table>\n",
       "</div>"
      ],
      "text/plain": [
       "                 id                    name  \\\n",
       "0  relation/1751075           John Jay Park   \n",
       "1  relation/2389631        Governors Island   \n",
       "2  relation/3690816         Highbridge Park   \n",
       "3  relation/4099553  Sara D. Roosevelt Park   \n",
       "4  relation/5625630         Fort Tryon Park   \n",
       "\n",
       "                                             website  \\\n",
       "0                                                N/A   \n",
       "1                 https://www.nps.gov/gois/index.htm   \n",
       "2  https://www.nycgovparks.org/parks/highbridge-p...   \n",
       "3  https://www.nycgovparks.org/parks/sara-d-roose...   \n",
       "4  https://www.nycgovparks.org/parks/fort-tryon-park   \n",
       "\n",
       "                                            geometry      park_area  \n",
       "0  POLYGON ((-73.94901 40.76981, -73.94944 40.770...    9506.859431  \n",
       "1  POLYGON ((-74.01540 40.69306, -74.01556 40.693...  696227.552870  \n",
       "2  MULTIPOLYGON (((-73.93110 40.84702, -73.93112 ...  521310.282769  \n",
       "3  MULTIPOLYGON (((-73.99377 40.71801, -73.99426 ...   36496.652767  \n",
       "4  MULTIPOLYGON (((-73.92808 40.86526, -73.92816 ...  281836.601376  "
      ]
     },
     "execution_count": 10,
     "metadata": {},
     "output_type": "execute_result"
    }
   ],
   "source": [
    "manhattan_parks_gdf.head()\n"
   ]
  },
  {
   "cell_type": "code",
   "execution_count": 11,
   "metadata": {},
   "outputs": [],
   "source": [
    "manhattan_parks_gdf.to_file(\"manhattan_parks_geocoded_full.geojson\",driver='GeoJSON')"
   ]
  }
 ],
 "metadata": {
  "kernelspec": {
   "display_name": "comp47360",
   "language": "python",
   "name": "python3"
  },
  "language_info": {
   "codemirror_mode": {
    "name": "ipython",
    "version": 3
   },
   "file_extension": ".py",
   "mimetype": "text/x-python",
   "name": "python",
   "nbconvert_exporter": "python",
   "pygments_lexer": "ipython3",
   "version": "3.12.3"
  }
 },
 "nbformat": 4,
 "nbformat_minor": 2
}
